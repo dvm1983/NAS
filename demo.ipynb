{
 "cells": [
  {
   "cell_type": "code",
   "execution_count": 1,
   "metadata": {},
   "outputs": [],
   "source": [
    "import torch\n",
    "import pandas as pd\n",
    "from collections import defaultdict\n",
    "import random"
   ]
  },
  {
   "cell_type": "code",
   "execution_count": 2,
   "metadata": {},
   "outputs": [],
   "source": [
    "from utils.data.dataloaders import make_mnist_dataloaders\n",
    "from utils.models.supernet import SuperNet \n",
    "from utils.trainer import Trainer"
   ]
  },
  {
   "cell_type": "code",
   "execution_count": 3,
   "metadata": {},
   "outputs": [],
   "source": [
    "data_dir = './data/'\n",
    "models_dir = './models/'\n",
    "results_dir = './results/'\n",
    "n_epoch = 30\n",
    "batch_size = 512\n",
    "num_workers = 0\n",
    "lr = 1e-2\n",
    "weight_decay = 0.0\n",
    "strategies = ['random', 'mean', 'sum', 'dropout_0.1', 'dropout_0.3', 'dropout_0.5', 'dropout_0.7']\n",
    "seed = 0"
   ]
  },
  {
   "cell_type": "code",
   "execution_count": 4,
   "metadata": {},
   "outputs": [],
   "source": [
    "random.seed(seed)"
   ]
  },
  {
   "cell_type": "code",
   "execution_count": 5,
   "metadata": {},
   "outputs": [],
   "source": [
    "if torch.cuda.is_available():\n",
    "    device = torch.device('cuda:0')\n",
    "else:\n",
    "    device = torch.device('cpu')"
   ]
  },
  {
   "cell_type": "code",
   "execution_count": 6,
   "metadata": {},
   "outputs": [],
   "source": [
    "train_dataloader, val_dataloader, test_dataloader = make_mnist_dataloaders(data_dir=data_dir, random_state=seed, batch_size=batch_size, num_workers=num_workers)"
   ]
  },
  {
   "cell_type": "code",
   "execution_count": 7,
   "metadata": {},
   "outputs": [],
   "source": [
    "optimizers = { 'sgd_m': lambda parameters, weight_decay, lr: torch.optim.SGD(parameters, lr=lr, weight_decay=weight_decay, momentum=0.9),\n",
    "               'sgd': torch.optim.SGD,\n",
    "               'adam': torch.optim.Adam}\n",
    "\n",
    "default_val_params = {'test_dataloader': val_dataloader, 'show_results': False, 'verbose': False, 'log': True}\n",
    "default_test_params = {'test_dataloader': test_dataloader, 'show_results': False, 'verbose': False, 'log': True}"
   ]
  },
  {
   "cell_type": "code",
   "execution_count": 8,
   "metadata": {
    "scrolled": true
   },
   "outputs": [],
   "source": [
    "accuracies_valid = defaultdict(list)\n",
    "accuracies_test = defaultdict(list)\n",
    "for optimizer in optimizers:\n",
    "    for strategy in strategies:    \n",
    "        default_train_params = {'train_dataloader': train_dataloader, 'val_dataloader': val_dataloader, 'n_epoch': n_epoch, \n",
    "                        'optim': optimizers[optimizer], 'weight_decay': weight_decay, 'schedul': None, 'loss': torch.nn.CrossEntropyLoss, \n",
    "                        'weighted': True, 'lr': lr, 'show_results': False, 'saved_models_dir': models_dir, 'verbose': False, \n",
    "                        'early_stopping': True, 'max_gap': 2, 'gamma': None}\n",
    "        \n",
    "        #обучение суперсети для каждой стратегии обучения\n",
    "        model = SuperNet(strategy=strategy)\n",
    "        trainer = Trainer(model, device=device, label_names=list(range(10)), model_name=f'supernet_{strategy}_{optimizer}')\n",
    "        trainer.train(**default_train_params)\n",
    "    \n",
    "        #сэмплирование\n",
    "        model1 = model.sampler(1)\n",
    "        model2 = model.sampler(2)\n",
    "    \n",
    "        #вычисление метрик сэмплов суперсети\n",
    "        trainer1 = Trainer(model1, device=device, label_names=list(range(10)), model_name=f'sample1_{strategy}_{optimizer}')\n",
    "        trainer2 = Trainer(model2, device=device, label_names=list(range(10)), model_name=f'sample2_{strategy}_{optimizer}')\n",
    "    \n",
    "        _, _, history = trainer1.test(**default_val_params)\n",
    "        accuracies_valid[f'{strategy} {optimizer}'].append(history['accuracy'])\n",
    "        _, _, history = trainer1.test(**default_test_params)\n",
    "        accuracies_test[f'{strategy} {optimizer}'].append(history['accuracy'])\n",
    "  \n",
    "        _, _, history = trainer2.test(**default_val_params)\n",
    "        accuracies_valid[f'{strategy} {optimizer}'].append(history['accuracy'])\n",
    "        _, _, history = trainer2.test(**default_test_params)\n",
    "        accuracies_test[f'{strategy} {optimizer}'].append(history['accuracy'])\n",
    "    \n",
    "        #случайная инициализация сэмплов суперсети\n",
    "        model1.random_init()\n",
    "        model2.random_init()  \n",
    "    \n",
    "        #обучение сэмплов суперсети с нуля\n",
    "        trainer1.train(**default_train_params)\n",
    "        trainer2.train(**default_train_params)\n",
    "    \n",
    "        #вычисление метрик сэмплов суперсети\n",
    "        _, _, history = trainer1.test(**default_val_params)\n",
    "        accuracies_valid[f'{strategy} {optimizer}'].append(history['accuracy'])\n",
    "        _, _, history = trainer1.test(**default_test_params)\n",
    "        accuracies_test[f'{strategy} {optimizer}'].append(history['accuracy'])\n",
    "    \n",
    "        _, _, history = trainer2.test(**default_val_params)\n",
    "        accuracies_valid[f'{strategy} {optimizer}'].append(history['accuracy'])\n",
    "        _, _, history = trainer2.test(**default_test_params)\n",
    "        accuracies_test[f'{strategy} {optimizer}'].append(history['accuracy'])"
   ]
  },
  {
   "cell_type": "code",
   "execution_count": 9,
   "metadata": {},
   "outputs": [],
   "source": [
    "model_names = ['sample_1 before', 'sample_2 before', 'sample_1 after', 'sample_2 after']\n",
    "results_valid = pd.DataFrame(model_names, columns=['model'])\n",
    "results_test = pd.DataFrame(model_names, columns=['model'])\n",
    "for optimizer in optimizers:\n",
    "    for strategy in strategies:\n",
    "        results_valid[f'{strategy} {optimizer}'] = accuracies_valid[f'{strategy} {optimizer}']\n",
    "        results_test[f'{strategy} {optimizer}'] = accuracies_test[f'{strategy} {optimizer}']"
   ]
  },
  {
   "cell_type": "code",
   "execution_count": 10,
   "metadata": {},
   "outputs": [],
   "source": [
    "results_valid.to_excel(f'{results_dir}/тестовая_выборка.xls', index=False)"
   ]
  },
  {
   "cell_type": "code",
   "execution_count": 11,
   "metadata": {},
   "outputs": [],
   "source": [
    "results_test.to_excel(f'{results_dir}/отложенная_выборка.xls', index=False)"
   ]
  }
 ],
 "metadata": {
  "kernelspec": {
   "display_name": "Python 3",
   "language": "python",
   "name": "python3"
  },
  "language_info": {
   "codemirror_mode": {
    "name": "ipython",
    "version": 3
   },
   "file_extension": ".py",
   "mimetype": "text/x-python",
   "name": "python",
   "nbconvert_exporter": "python",
   "pygments_lexer": "ipython3",
   "version": "3.7.6"
  }
 },
 "nbformat": 4,
 "nbformat_minor": 2
}
